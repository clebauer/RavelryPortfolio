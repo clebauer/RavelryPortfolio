{
 "cells": [
  {
   "cell_type": "code",
   "execution_count": null,
   "metadata": {},
   "outputs": [],
   "source": [
    "from IPython.core.display import display, HTML, Markdown, Image\n",
    "from pprint import pprint \n",
    "# from bs4 import BeautifulSoup\n",
    "\n",
    "import requests\n",
    "import json\n",
    "import pandas as pd"
   ]
  },
  {
   "cell_type": "code",
   "execution_count": null,
   "metadata": {},
   "outputs": [],
   "source": [
    "# https://www.ravelry.com/api\n",
    "# https://www.ravelry.com/projects/ReinaSparks/"
   ]
  },
  {
   "cell_type": "code",
   "execution_count": null,
   "metadata": {},
   "outputs": [],
   "source": [
    "app_username = input(\"username?\")\n",
    "app_password = input(\"password?\")"
   ]
  },
  {
   "cell_type": "code",
   "execution_count": null,
   "metadata": {},
   "outputs": [],
   "source": [
    "ravelry_username = 'reinasparks'"
   ]
  },
  {
   "cell_type": "code",
   "execution_count": null,
   "metadata": {},
   "outputs": [],
   "source": [
    "url = f\"https://api.ravelry.com/projects/{ravelry_username}/list.json\"\n",
    "r = requests.get(url, auth=(app_username, app_password))\n",
    "ravelry = r.json()\n"
   ]
  },
  {
   "cell_type": "code",
   "execution_count": null,
   "metadata": {},
   "outputs": [],
   "source": [
    "project_types = set(x['craft_name'] for x in ravelry['projects'])"
   ]
  },
  {
   "cell_type": "code",
   "execution_count": null,
   "metadata": {},
   "outputs": [],
   "source": [
    "fields = ['completed', 'craft_name', 'started', 'name', 'pattern_name', 'permalink', 'progress', 'status_name', 'rating', 'first_photo']"
   ]
  },
  {
   "cell_type": "code",
   "execution_count": null,
   "metadata": {},
   "outputs": [],
   "source": [
    "null_photo = 'https://cdn.shopify.com/s/assets/no-image-2048-5e88c1b20e087fb7bbe9a3771824e743c244f437e4f8ba93bbf7b11b53f7824c.gif'"
   ]
  },
  {
   "cell_type": "code",
   "execution_count": null,
   "metadata": {},
   "outputs": [],
   "source": [
    "projects_df = pd.DataFrame.from_dict(ravelry['projects'])[fields]\n",
    "\n",
    "projects_df['first_photo'] = projects_df['first_photo'].apply(lambda x: null_photo if pd.isnull(x) else x['medium_url'])\n",
    "projects_df['progress'] = projects_df.apply(lambda x: x['progress'] if x['status_name'] != 'Finished' else 100, axis=1).fillna(0).astype(int)\n",
    "projects_df['link'] = projects_df['permalink'].apply(lambda x: f'https://www.ravelry.com/projects/{ravelry_username}/{x}')"
   ]
  },
  {
   "cell_type": "code",
   "execution_count": null,
   "metadata": {},
   "outputs": [],
   "source": [
    "projects_df['progress_bar'] = projects_df['progress'].apply(lambda x: f'<div style=\"text-align:center\"><progress max=\"100\" value=\"{x}\"></progress><br>{x}%</div>')"
   ]
  },
  {
   "cell_type": "code",
   "execution_count": null,
   "metadata": {},
   "outputs": [],
   "source": [
    "projects_df = projects_df.sort_values(['completed', 'progress'], ascending=False).reset_index(drop=True)"
   ]
  },
  {
   "cell_type": "code",
   "execution_count": null,
   "metadata": {
    "scrolled": true
   },
   "outputs": [],
   "source": [
    "full_html = '<table><tr>'\n",
    "for index, row in projects_df.iterrows():\n",
    "    link = f'<a href=\"{row[\"link\"]}\">{row[\"name\"]}</a>'\n",
    "    img = f'<img src=\"{row[\"first_photo\"]}\" style=\"object-fit: cover; width:200px; height:200px;\">'\n",
    "    item_html = '''<center><h3>{link}</h3>Started: {st}<br>Completed: {co}<br>{img}<br>{prog}</center>'''.format(link=link,\n",
    "                                                                             img=img,\n",
    "                                                                             prog=row[\"progress_bar\"], \n",
    "                                                                             st = row[\"started\"],\n",
    "                                                                             co = row[\"completed\"])\n",
    "    full_html += f'<td>{item_html}</td>'\n",
    "    if (index+1)%4 == 0:\n",
    "        full_html += '</tr><tr>'\n",
    "\n",
    "full_html += '</table>'\n",
    "\n",
    "display(HTML(full_html))"
   ]
  },
  {
   "cell_type": "code",
   "execution_count": null,
   "metadata": {},
   "outputs": [],
   "source": [
    "print(BeautifulSoup(full_html, 'html.parser').prettify())"
   ]
  },
  {
   "cell_type": "code",
   "execution_count": null,
   "metadata": {},
   "outputs": [],
   "source": []
  },
  {
   "cell_type": "code",
   "execution_count": null,
   "metadata": {},
   "outputs": [],
   "source": []
  }
 ],
 "metadata": {
  "kernelspec": {
   "display_name": "Python 2",
   "language": "python",
   "name": "python2"
  },
  "language_info": {
   "codemirror_mode": {
    "name": "ipython",
    "version": 2
   },
   "file_extension": ".py",
   "mimetype": "text/x-python",
   "name": "python",
   "nbconvert_exporter": "python",
   "pygments_lexer": "ipython2",
   "version": "2.7.16"
  }
 },
 "nbformat": 4,
 "nbformat_minor": 4
}
